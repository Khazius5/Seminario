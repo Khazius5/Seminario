{
 "cells": [
  {
   "cell_type": "markdown",
   "metadata": {},
   "source": [
    "## Ejercicio 10\n",
    "\n",
    "* Lo primero que se hizo fue abrir los archivos correspondientes de notas y nombres utilizando el encode \"UTF-8\" para una buena legebilidad del programa {sin el encode da error por las tildes}"
   ]
  },
  {
   "cell_type": "code",
   "execution_count": null,
   "metadata": {},
   "outputs": [],
   "source": [
    "arch_notas1 = open('eval1.txt' , mode=\"r\" , encoding=\"UTF-8\")\n",
    "arch_notas2 = open('eval2.txt', mode=\"r\" , encoding=\"UTF-8\")\n",
    "arc_nombres = open('nombres_1.txt', mode=\"r\" , encoding=\"UTF-8\")"
   ]
  },
  {
   "cell_type": "markdown",
   "metadata": {},
   "source": [
    "* A dichos archivos se les asignó una variable a cada uno con la que se separaron por \",\" exceptuando los nombres que se quitó el \\n usando .replace"
   ]
  },
  {
   "cell_type": "code",
   "execution_count": null,
   "metadata": {},
   "outputs": [],
   "source": [
    "notas1 = arch_notas1.read().split(\",\")\n",
    "notas2 = arch_notas2.read().split(\",\")\n",
    "nombres = arc_nombres.read().replace(\" \", \"\").split()"
   ]
  },
  {
   "cell_type": "markdown",
   "metadata": {},
   "source": [
    "* Inicialice una lista la cual luego se le volcara la informacion y la variable para calcular promedio"
   ]
  },
  {
   "cell_type": "code",
   "execution_count": null,
   "metadata": {},
   "outputs": [],
   "source": [
    "alumnos = []\n",
    "nota_total = 0"
   ]
  },
  {
   "cell_type": "markdown",
   "metadata": {},
   "source": [
    "* Itere la lista con el bucle for donde en cada iteracion se creo un diccionario con la informacion de cada alumno(nombre + nota final) al cual luego lo volcamos en la lista \"alumnos\" previamente declarada "
   ]
  },
  {
   "cell_type": "code",
   "execution_count": null,
   "metadata": {},
   "outputs": [],
   "source": [
    "for nombre, nota1 , nota2 in zip(nombres,notas1, notas2):\n",
    "    alumno = {\"nombre\":nombre , \"nota\": (int (nota1) + int (nota2))}\n",
    "    alumnos.append(alumno)\n",
    "    nota_total += alumno[\"nota\"]\n"
   ]
  },
  {
   "cell_type": "markdown",
   "metadata": {},
   "source": [
    "* Calculamos el promedio y lo guardamos redondeando los digitos despues de la coma."
   ]
  },
  {
   "cell_type": "code",
   "execution_count": null,
   "metadata": {},
   "outputs": [],
   "source": [
    "promedio = nota_total / len(nombres)\n",
    "promedio = round(promedio , 1)"
   ]
  },
  {
   "cell_type": "markdown",
   "metadata": {},
   "source": [
    "Imprimimos los alumnos que estan debajo del promedio"
   ]
  },
  {
   "cell_type": "code",
   "execution_count": null,
   "metadata": {},
   "outputs": [],
   "source": [
    "for alumno in alumnos:\n",
    "    if (alumno[\"nota\"] < promedio):\n",
    "        print(alumno)"
   ]
  },
  {
   "cell_type": "markdown",
   "metadata": {},
   "source": [
    "* Cerramos los archivos .txt"
   ]
  },
  {
   "cell_type": "code",
   "execution_count": null,
   "metadata": {},
   "outputs": [],
   "source": [
    "arch_notas1.close()\n",
    "arc_nombres.close()\n",
    "arch_notas2.close()"
   ]
  },
  {
   "cell_type": "markdown",
   "metadata": {},
   "source": [
    "* Opcionalmente imprimimos la lista original con todos los alumnos"
   ]
  },
  {
   "cell_type": "code",
   "execution_count": null,
   "metadata": {},
   "outputs": [],
   "source": [
    "for alumno in alumnos: \n",
    "    print(alumno)\n",
    "    print(\"-\"*10)"
   ]
  }
 ],
 "metadata": {
  "interpreter": {
   "hash": "2be5faf79681da6f2a61fdfdd5405d65d042280f7fba6178067603e3a2925119"
  },
  "kernelspec": {
   "display_name": "Python 3.10.2 64-bit",
   "language": "python",
   "name": "python3"
  },
  "language_info": {
   "codemirror_mode": {
    "name": "ipython",
    "version": 3
   },
   "file_extension": ".py",
   "mimetype": "text/x-python",
   "name": "python",
   "nbconvert_exporter": "python",
   "pygments_lexer": "ipython3",
   "version": "3.10.2"
  },
  "orig_nbformat": 4
 },
 "nbformat": 4,
 "nbformat_minor": 2
}
